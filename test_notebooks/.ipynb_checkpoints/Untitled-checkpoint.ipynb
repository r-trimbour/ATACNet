{
 "cells": [
  {
   "cell_type": "code",
   "execution_count": 133,
   "id": "12784361-f656-4803-809e-d0fc4f63ea4c",
   "metadata": {},
   "outputs": [],
   "source": [
    "import pandas as pd\n",
    "import numpy as np\n",
    "import anndata as ad\n",
    "import matplotlib.pyplot as plt\n",
    "\n",
    "# Create fake single-cell atac-seq data\n",
    "counts = pd.DataFrame(np.random.randint(0,100,size=(50, 200)),\n",
    "                      index=['Cell_'+i for i in map(str, range(50))],\n",
    "                      columns=['chr1_'+i+'_'+i for i in map(str, range(200))])\n",
    "\n",
    "atac = ad.AnnData(counts)\n",
    "\n",
    "\n",
    "def add_region_infos(AnnData,\n",
    "                     sep=('_', '_'),\n",
    "                     inplace=True):\n",
    "    \"\"\"\n",
    "    Get region informations from the var_names of AnnData object.\n",
    "    e.g. chr1_12345_12346 -> 'chromosome' : chr1, 'start' : 12345, 'end' : 12346\n",
    "    These info will be added to var of AnnData object.\n",
    "        adata.var['chromosome'] : chromosome\n",
    "        adata.var['start'] : start position\n",
    "        adata.var['end'] : end position\n",
    "\n",
    "    Parameters\n",
    "    ----------\n",
    "    AnnData : AnnData object\n",
    "        AnnData object with var_names as region names.\n",
    "    sep : tuple, optional\n",
    "        Separator of region names. The default is ('_', '_').\n",
    "    \n",
    "    Returns\n",
    "    -------\n",
    "    AnnData : AnnData object\n",
    "        AnnData object with region informations in var.\n",
    "    \"\"\"\n",
    "    # Check if user wants to modify AnnData inplace or return a copy\n",
    "    if inplace:\n",
    "        pass\n",
    "    else:\n",
    "        AnnData = AnnData.copy()\n",
    "    regions_list = AnnData.var_names\n",
    "\n",
    "    # Replace sep[1] with sep[0] to make it easier to split\n",
    "    regions_list = regions_list.str.replace(sep[1], sep[0])\n",
    "\n",
    "    # Split region names\n",
    "    regions_list = regions_list.str.split(sep[0]).tolist()\n",
    "\n",
    "    # Check if all regions have the same number of elements\n",
    "    if set([len(i) for i in regions_list]) != set([3]):\n",
    "        raise ValueError(\"\"\"Not all regions have the same number of elements.\n",
    "                         Check if sep is correct, it should be ({}, {}),\n",
    "                         with only one occurence each in region names.\"\"\".format(sep[0], sep[1]))\n",
    "\n",
    "    # Extract region informations from var_names\n",
    "    region_infos = pd.DataFrame(regions_list,\n",
    "                                index=AnnData.var_names,\n",
    "                                columns=['chromosome', 'start', 'end'])\n",
    "\n",
    "    # Convert start and end to int\n",
    "    region_infos['start'] = region_infos['start'].astype(int)\n",
    "    region_infos['end'] = region_infos['end'].astype(int)\n",
    "\n",
    "    # Add region informations to var\n",
    "    AnnData.var['chromosome'] = region_infos['chromosome']\n",
    "    AnnData.var['start'] = region_infos['start']\n",
    "    AnnData.var['end'] = region_infos['end']\n",
    "\n",
    "    sort_regions(AnnData)\n",
    "    # Return AnnData if inplace is False\n",
    "    if inplace:\n",
    "        pass\n",
    "    else:\n",
    "        return AnnData\n",
    "\n",
    "\n",
    "def sort_regions(AnnData):\n",
    "    \"\"\"\n",
    "    Sort regions by chromosome and start position.\n",
    "    \"\"\"\n",
    "    AnnData.var.sort_values(['chromosome', 'start'], inplace=True)\n",
    "    return AnnData\n",
    "\n",
    "\n",
    "def get_distance_regions(AnnData, chromosomes=None):\n",
    "    \"\"\"\n",
    "    Get distance between regions.\n",
    "    \"\"\"\n",
    "    # Check if chromosomes is None\n",
    "    if chromosomes is None:\n",
    "        # Get chromosome list\n",
    "        chromosomes = AnnData.var['chromosome'].unique().tolist()\n",
    "    else:\n",
    "        if np.array([i in AnnData.var['chromosome'].unique().tolist() for i in chromosomes]).all():\n",
    "            raise ValueError(\"\"\"Chromosomes should be in AnnData.var['chromosome'].\n",
    "                                Check if chromosomes is correct.\"\"\")\n",
    "\n",
    "    # A dictionary to store distance between regions for each chromosome\n",
    "    distances = {}\n",
    "\n",
    "    # Get distance between regions for each chromosome\n",
    "    for chromosome in chromosomes:\n",
    "        chromosome_mask = AnnData.var['chromosome']==chromosome\n",
    "        # Store start and end positions in two arrays\n",
    "        m, n = np.meshgrid(AnnData.var['start'].values[chromosome_mask],\n",
    "                           AnnData.var['end'].values[chromosome_mask])\n",
    "\n",
    "        # Get distance between start of region m and end of region n\n",
    "        distance = np.abs(m-n)\n",
    "        # Substract length of the region to get distance between\n",
    "        # end of region m and start of region n\n",
    "        # a.k.a. distance between closest bases of two regions\n",
    "        distance = (distance.T-(AnnData.var['end'].values[chromosome_mask]\n",
    "                                - AnnData.var['start'].values[chromosome_mask])).T\n",
    "\n",
    "        # Remove diagonal (distance between a region and itself)\n",
    "        distance -= np.diag(distance)\n",
    "\n",
    "        # Keep upper triangle of the distance matrix\n",
    "        # (we don't want to calculate the same connection twice)\n",
    "        distance = np.triu(distance, k=1)\n",
    "\n",
    "        # Test if distance is negative\n",
    "        if np.any(distance < 0):\n",
    "            raise ValueError(\"\"\"Distance between regions should be positive.\n",
    "                            You might have overlapping regions.\"\"\")\n",
    "\n",
    "    # Store distance in a dictionary\n",
    "    distances[chromosome] = distance\n",
    "\n",
    "    # Return distance\n",
    "    return distance\n",
    "\n",
    "\n",
    "def potential_connections(AnnData, threshold, chromosomes=None):\n",
    "    \"\"\"\n",
    "    Get potential connections between regions based on distance.\n",
    "    \"\"\"\n",
    "    # Check if chromosomes is None\n",
    "    if chromosomes is None:\n",
    "        # Get chromosome list\n",
    "        chromosomes = AnnData.var['chromosome'].unique().tolist()\n",
    "    else:\n",
    "        if np.array([i in AnnData.var['chromosome'].unique().tolist()\\\n",
    "                      for i in chromosomes]).all():\n",
    "            raise ValueError(\"\"\"Chromosomes should be in AnnData.var['chromosome'].\n",
    "                                Check if chromosomes is correct.\"\"\")\n",
    "\n",
    "    # Get distance between regions\n",
    "    distances = get_distance_regions(AnnData, chromosomes=chromosomes)\n",
    "\n",
    "    # Get potential connections\n",
    "    for chromosome in chromosomes:\n",
    "        print(\"Getting potential connections for chromosome {}...\".format(chromosome))\n",
    "        # Get potential connections for each chromosome\n",
    "        distance = distances[chromosome]\n",
    "        potential_connections = np.where((distance <= threshold)\n",
    "                                         & (distance > 0))\n",
    "\n",
    "    return potential_connections\n",
    "\n",
    "\n",
    "def corrcoef_connections(AnnData, potential_connections, as_sparse=True):\n",
    "    \"\"\"\n",
    "    Get correlation coefficient between regions.\n",
    "    \"\"\"\n",
    "\n",
    "    corr_coefs = []\n",
    "    # Get correlation coefficient between regions\n",
    "    for i in range(len(potential_connections[0])):\n",
    "        corr_coef = np.corrcoef(AnnData.X[:,potential_connections[0][i]], AnnData.X[:,potential_connections[1][i]])[0,1]\n",
    "        corr_coefs.append(corr_coef)\n",
    "\n",
    "    # Convert to sparse matrix if as_sparse is True\n",
    "    if as_sparse:\n",
    "        corr_coefs = sp.sparse.coo_matrix((corr_coefs, (potential_connections[0], potential_connections[1])),\n",
    "                                          shape=(AnnData.shape[1], AnnData.shape[1]))\n",
    "    else:\n",
    "        pass\n",
    "    # Return correlation coefficients\n",
    "    return corr_coefs\n",
    "\n",
    "\n",
    "\n",
    "\n",
    "\n",
    "\n",
    "\n",
    "\n",
    "\n",
    "\n",
    "\n",
    "\n",
    "\n",
    "\n",
    "\n",
    "\n",
    "\n",
    "\n",
    "\n",
    "\n",
    "\n",
    "\n",
    "\n",
    "\n",
    "\n",
    "def group_potential_connections(AnnData, distant_constraint, chromosomes_sizes):\n",
    "    \"\"\"\n",
    "    Group potential connections based on distance constraint.\n",
    "    \"\"\"\n",
    "\n",
    "    # Create a copy of AnnData object\n",
    "    AnnData = AnnData.copy()\n",
    "\n",
    "    # Sort regions by chromosome and start position\n",
    "    AnnData = sort_regions(AnnData)\n",
    "\n",
    "    # Get chromosome list\n",
    "    chromosomes = AnnData.var['chromosome'].unique().tolist()\n",
    "\n",
    "    # Get group of regions contained in the same chromosome\n",
    "    for chromosome in chromosomes:\n",
    "        # Get regions in the same chromosome\n",
    "        adata_chr[chromosome] = [atac[:, atac.var['chromosome']==chromosome] for chromosome in chromosomes]\n",
    "\n",
    "        # Define windows based on distant_constraint for each chromosome\n",
    "        for i in range(0, chromosomes_sizes[chromosome], distant_constraint):\n",
    "            borders = [i, i+distant_constraint]\n",
    "            if borders[1] > chromosomes_sizes[chromosome]:\n",
    "                borders[1] = chromosomes_sizes[chromosome]\n",
    "            # List of regions in the same window\n",
    "            # (we accept regions that starts or end in the window)\n",
    "            mask = (adata_chr[chromosome].var['start'] >= borders[0]) & (adata_chr[chromosome].var['start'] <= borders[1])\n",
    "            mask += (adata_chr[chromosome].var['end'] >= borders[0]) & (adata_chr[chromosome].var['end'] <= borders[1])\n",
    "            regions_in_window = adata_chr[chromosome] [mask]\n",
    "\n",
    "            #  \n",
    "\n",
    "\n",
    "\n",
    "\n",
    "\n",
    "    # Group potential connections\n",
    "    potential_connections = pd.DataFrame(potential_connections, columns=['start', 'end'])\n",
    "    potential_connections['group'] = np.nan\n",
    "    group = 0\n",
    "    for i in range(len(potential_connections)):\n",
    "        if np.isnan(potential_connections['group'][i]):\n",
    "            group += 1\n",
    "            potential_connections['group'][i] = group\n",
    "            for j in range(i+1, len(potential_connections)):\n",
    "                if potential_connections['start'][j] >= potential_connections['start'][i] and potential_connections['end'][j] <= potential_connections['end'][i]:\n",
    "                    potential_connections['group'][j] = group\n",
    "                else:\n",
    "                    pass\n",
    "        else:\n",
    "            pass\n",
    "\n",
    "    # Add group information to AnnData object\n",
    "    AnnData.var['group'] = potential_connections['group']\n",
    "\n",
    "    return AnnData\n",
    "    "
   ]
  },
  {
   "cell_type": "code",
   "execution_count": 134,
   "id": "342a0ae8-a86e-47e5-aaed-2fdad61390a7",
   "metadata": {},
   "outputs": [],
   "source": [
    "import numpy as np\n",
    "import pandas as pd\n",
    "import anndata as ad\n",
    "import scipy as sp"
   ]
  },
  {
   "cell_type": "code",
   "execution_count": 135,
   "id": "b54d3517-c8fd-46f0-bb11-6ab0016c2fce",
   "metadata": {},
   "outputs": [
    {
     "data": {
      "text/plain": [
       "(AnnData object with n_obs × n_vars = 50 × 800,\n",
       " Index(['chr1_1_6', 'chr1_51_56', 'chr1_101_106', 'chr1_151_156',\n",
       "        'chr1_201_206', 'chr1_251_256', 'chr1_301_306', 'chr1_351_356',\n",
       "        'chr1_401_406', 'chr1_451_456',\n",
       "        ...\n",
       "        'chr2_19501_19506', 'chr2_19551_19556', 'chr2_19601_19606',\n",
       "        'chr2_19651_19656', 'chr2_19701_19706', 'chr2_19751_19756',\n",
       "        'chr2_19801_19806', 'chr2_19851_19856', 'chr2_19901_19906',\n",
       "        'chr2_19951_19956'],\n",
       "       dtype='object', length=800))"
      ]
     },
     "execution_count": 135,
     "metadata": {},
     "output_type": "execute_result"
    }
   ],
   "source": [
    "# Create fake single-cell atac-seq data\n",
    "counts = pd.DataFrame(np.random.randint(0,100,size=(50, 400)),\n",
    "                    index=['Cell_'+i for i in map(str, range(50))],\n",
    "                    columns=['chr1_'+i+'_'+str(int(i)+5) for i in map(str, range(1, 20000, 50))])\n",
    "counts2 = pd.DataFrame(np.random.randint(0,100,size=(50, 400)),\n",
    "                    index=['Cell_'+i for i in map(str, range(50))],\n",
    "                    columns=['chr2_'+i+'_'+str(int(i)+5) for i in map(str, range(1, 20000, 50))])\n",
    "counts = pd.concat([counts, counts2], axis=1)\n",
    "atac = ad.AnnData(counts)\n",
    "atac,atac.var_names"
   ]
  },
  {
   "cell_type": "code",
   "execution_count": 136,
   "id": "10382bd4-7490-4412-bf4d-f4aecb7f00f5",
   "metadata": {},
   "outputs": [],
   "source": [
    "distance_threshold = 3000"
   ]
  },
  {
   "cell_type": "code",
   "execution_count": 137,
   "id": "f511289b-8acc-4d00-b80d-53860173d8e7",
   "metadata": {},
   "outputs": [],
   "source": [
    "add_region_infos(atac)"
   ]
  },
  {
   "cell_type": "code",
   "execution_count": 138,
   "id": "a2d7f370-f31f-4cab-9f93-62b9af603aa4",
   "metadata": {},
   "outputs": [
    {
     "ename": "TypeError",
     "evalue": "'<' not supported between instances of 'dict' and 'int'",
     "output_type": "error",
     "traceback": [
      "\u001b[0;31m---------------------------------------------------------------------------\u001b[0m",
      "\u001b[0;31mTypeError\u001b[0m                                 Traceback (most recent call last)",
      "Cell \u001b[0;32mIn[138], line 1\u001b[0m\n\u001b[0;32m----> 1\u001b[0m distance \u001b[38;5;241m=\u001b[39m \u001b[43mget_distance_regions\u001b[49m\u001b[43m(\u001b[49m\u001b[43matac\u001b[49m\u001b[43m)\u001b[49m\n",
      "Cell \u001b[0;32mIn[133], line 125\u001b[0m, in \u001b[0;36mget_distance_regions\u001b[0;34m(AnnData, chromosomes)\u001b[0m\n\u001b[1;32m    122\u001b[0m     distance \u001b[38;5;241m=\u001b[39m np\u001b[38;5;241m.\u001b[39mtriu(distance, k\u001b[38;5;241m=\u001b[39m\u001b[38;5;241m1\u001b[39m)\n\u001b[1;32m    124\u001b[0m     \u001b[38;5;66;03m# Test if distance is negative\u001b[39;00m\n\u001b[0;32m--> 125\u001b[0m     \u001b[38;5;28;01mif\u001b[39;00m np\u001b[38;5;241m.\u001b[39many(\u001b[43mdistances\u001b[49m\u001b[43m \u001b[49m\u001b[38;5;241;43m<\u001b[39;49m\u001b[43m \u001b[49m\u001b[38;5;241;43m0\u001b[39;49m):\n\u001b[1;32m    126\u001b[0m         \u001b[38;5;28;01mraise\u001b[39;00m \u001b[38;5;167;01mValueError\u001b[39;00m(\u001b[38;5;124m\"\"\"\u001b[39m\u001b[38;5;124mDistance between regions should be positive.\u001b[39m\n\u001b[1;32m    127\u001b[0m \u001b[38;5;124m                        You might have overlapping regions.\u001b[39m\u001b[38;5;124m\"\"\"\u001b[39m)\n\u001b[1;32m    129\u001b[0m \u001b[38;5;66;03m# Store distance in a dictionary\u001b[39;00m\n",
      "\u001b[0;31mTypeError\u001b[0m: '<' not supported between instances of 'dict' and 'int'"
     ]
    }
   ],
   "source": [
    "distance = get_distance_regions(atac)"
   ]
  },
  {
   "cell_type": "code",
   "execution_count": 124,
   "id": "3125e95b-4ab3-4ed7-9d05-7285ad2578f3",
   "metadata": {},
   "outputs": [],
   "source": [
    "potential_connections_atac = potential_connections(atac, threshold=distance_threshold)"
   ]
  },
  {
   "cell_type": "code",
   "execution_count": 126,
   "id": "419d7fa9-c2a1-4e2e-bac3-8b6e808b1676",
   "metadata": {},
   "outputs": [
    {
     "data": {
      "text/plain": [
       "(array([  0,   0,   0, ..., 797, 797, 798]),\n",
       " array([  1,   2,   3, ..., 798, 799, 799]))"
      ]
     },
     "execution_count": 126,
     "metadata": {},
     "output_type": "execute_result"
    }
   ],
   "source": [
    "potential_connections_atac"
   ]
  },
  {
   "cell_type": "code",
   "execution_count": 105,
   "id": "64dacb51-7191-46cf-80a6-76dd35442870",
   "metadata": {},
   "outputs": [
    {
     "data": {
      "text/plain": [
       "<800x800 sparse matrix of type '<class 'numpy.float64'>'\n",
       "\twith 88680 stored elements in COOrdinate format>"
      ]
     },
     "execution_count": 105,
     "metadata": {},
     "output_type": "execute_result"
    }
   ],
   "source": [
    "corrcoef_connections(atac, potential_connections_atac, as_sparse=True)"
   ]
  },
  {
   "cell_type": "code",
   "execution_count": 106,
   "id": "5080938d-f5dd-4703-89e4-1e7d6db76796",
   "metadata": {},
   "outputs": [
    {
     "data": {
      "text/plain": [
       "88680"
      ]
     },
     "execution_count": 106,
     "metadata": {},
     "output_type": "execute_result"
    }
   ],
   "source": [
    "coefs = corrcoef_connections(atac, potential_connections_atac, as_sparse=False)\n",
    "len(coefs)"
   ]
  },
  {
   "cell_type": "code",
   "execution_count": 28,
   "id": "c5f29834-24ae-4d9a-aadd-5c2372799932",
   "metadata": {},
   "outputs": [],
   "source": [
    "m, n = np.meshgrid(atac.var['start'], atac.var['end'])\n",
    "\n",
    "# Get distance between start of region m and end of region n\n",
    "distance = np.abs(m-n)\n",
    "# Substract length of the region to get distance between\n",
    "# end of region m and start of region n\n",
    "# a.k.a. distance between closest bases of two regions\n"
   ]
  },
  {
   "cell_type": "code",
   "execution_count": 32,
   "id": "2133d00b-161e-490c-8fe3-78c070d418b1",
   "metadata": {},
   "outputs": [
    {
     "data": {
      "text/plain": [
       "chr1_1_6            5\n",
       "chr1_51_56          5\n",
       "chr1_101_106        5\n",
       "chr1_151_156        5\n",
       "chr1_201_206        5\n",
       "                   ..\n",
       "chr2_19751_19756    5\n",
       "chr2_19801_19806    5\n",
       "chr2_19851_19856    5\n",
       "chr2_19901_19906    5\n",
       "chr2_19951_19956    5\n",
       "Length: 800, dtype: int64"
      ]
     },
     "execution_count": 32,
     "metadata": {},
     "output_type": "execute_result"
    }
   ],
   "source": [
    "(atac.var['end']-atac.var['start'])"
   ]
  },
  {
   "cell_type": "code",
   "execution_count": 132,
   "id": "3ed90ad4-0787-4242-ac6b-e87db4af9194",
   "metadata": {},
   "outputs": [
    {
     "data": {
      "text/plain": [
       "False"
      ]
     },
     "execution_count": 132,
     "metadata": {},
     "output_type": "execute_result"
    }
   ],
   "source": [
    "np.array([i in [1,2,3] for i in [1,4]]).all()"
   ]
  },
  {
   "cell_type": "code",
   "execution_count": 114,
   "id": "f0107770-2c23-41ca-963c-dc4154aaee00",
   "metadata": {},
   "outputs": [
    {
     "data": {
      "text/plain": [
       "array([ True, False, False, False, False, False, False, False, False,\n",
       "       False, False, False, False, False, False, False, False, False,\n",
       "       False, False, False, False, False, False, False, False, False,\n",
       "       False, False, False, False, False, False, False, False, False,\n",
       "       False, False, False, False, False, False, False, False, False,\n",
       "       False, False, False, False, False, False, False, False, False,\n",
       "       False, False, False, False, False, False, False, False, False,\n",
       "       False, False, False, False, False, False, False, False, False,\n",
       "       False, False, False, False, False, False, False, False, False,\n",
       "       False, False, False, False, False, False, False, False, False,\n",
       "       False, False, False, False, False, False, False, False, False,\n",
       "       False, False, False, False, False, False, False, False, False,\n",
       "       False, False, False, False, False, False, False, False, False,\n",
       "       False, False, False, False, False, False, False, False, False,\n",
       "       False, False, False, False, False, False, False, False, False,\n",
       "       False, False, False, False, False, False, False, False, False,\n",
       "       False, False, False, False, False, False, False, False, False,\n",
       "       False, False, False, False, False, False, False, False, False,\n",
       "       False, False, False, False, False, False, False, False, False,\n",
       "       False, False, False, False, False, False, False, False, False,\n",
       "       False, False, False, False, False, False, False, False, False,\n",
       "       False, False, False, False, False, False, False, False, False,\n",
       "       False, False, False, False, False, False, False, False, False,\n",
       "       False, False, False, False, False, False, False, False, False,\n",
       "       False, False, False, False, False, False, False, False, False,\n",
       "       False, False, False, False, False, False, False, False, False,\n",
       "       False, False, False, False, False, False, False, False, False,\n",
       "       False, False, False, False, False, False, False, False, False,\n",
       "       False, False, False, False, False, False, False, False, False,\n",
       "       False, False, False, False, False, False, False, False, False,\n",
       "       False, False, False, False, False, False, False, False, False,\n",
       "       False, False, False, False, False, False, False, False, False,\n",
       "       False, False, False, False, False, False, False, False, False,\n",
       "       False, False, False, False, False, False, False, False, False,\n",
       "       False, False, False, False, False, False, False, False, False,\n",
       "       False, False, False, False, False, False, False, False, False,\n",
       "       False, False, False, False, False, False, False, False, False,\n",
       "       False, False, False, False, False, False, False, False, False,\n",
       "       False, False, False, False, False, False, False, False, False,\n",
       "       False, False, False, False, False, False, False, False, False,\n",
       "       False, False, False, False, False, False, False, False, False,\n",
       "       False, False, False, False, False, False, False, False, False,\n",
       "       False, False, False, False, False, False, False, False, False,\n",
       "       False, False, False, False, False, False, False, False, False,\n",
       "       False, False, False, False,  True, False, False, False, False,\n",
       "       False, False, False, False, False, False, False, False, False,\n",
       "       False, False, False, False, False, False, False, False, False,\n",
       "       False, False, False, False, False, False, False, False, False,\n",
       "       False, False, False, False, False, False, False, False, False,\n",
       "       False, False, False, False, False, False, False, False, False,\n",
       "       False, False, False, False, False, False, False, False, False,\n",
       "       False, False, False, False, False, False, False, False, False,\n",
       "       False, False, False, False, False, False, False, False, False,\n",
       "       False, False, False, False, False, False, False, False, False,\n",
       "       False, False, False, False, False, False, False, False, False,\n",
       "       False, False, False, False, False, False, False, False, False,\n",
       "       False, False, False, False, False, False, False, False, False,\n",
       "       False, False, False, False, False, False, False, False, False,\n",
       "       False, False, False, False, False, False, False, False, False,\n",
       "       False, False, False, False, False, False, False, False, False,\n",
       "       False, False, False, False, False, False, False, False, False,\n",
       "       False, False, False, False, False, False, False, False, False,\n",
       "       False, False, False, False, False, False, False, False, False,\n",
       "       False, False, False, False, False, False, False, False, False,\n",
       "       False, False, False, False, False, False, False, False, False,\n",
       "       False, False, False, False, False, False, False, False, False,\n",
       "       False, False, False, False, False, False, False, False, False,\n",
       "       False, False, False, False, False, False, False, False, False,\n",
       "       False, False, False, False, False, False, False, False, False,\n",
       "       False, False, False, False, False, False, False, False, False,\n",
       "       False, False, False, False, False, False, False, False, False,\n",
       "       False, False, False, False, False, False, False, False, False,\n",
       "       False, False, False, False, False, False, False, False, False,\n",
       "       False, False, False, False, False, False, False, False, False,\n",
       "       False, False, False, False, False, False, False, False, False,\n",
       "       False, False, False, False, False, False, False, False, False,\n",
       "       False, False, False, False, False, False, False, False, False,\n",
       "       False, False, False, False, False, False, False, False, False,\n",
       "       False, False, False, False, False, False, False, False, False,\n",
       "       False, False, False, False, False, False, False, False, False,\n",
       "       False, False, False, False, False, False, False, False, False,\n",
       "       False, False, False, False, False, False, False, False, False,\n",
       "       False, False, False, False, False, False, False, False, False,\n",
       "       False, False, False, False, False, False, False, False, False,\n",
       "       False, False, False, False, False, False, False, False, False,\n",
       "       False, False, False, False, False, False, False, False, False,\n",
       "       False, False, False, False, False, False, False, False, False,\n",
       "       False, False, False, False, False, False, False, False, False,\n",
       "       False, False, False, False, False, False, False, False])"
      ]
     },
     "execution_count": 114,
     "metadata": {},
     "output_type": "execute_result"
    }
   ],
   "source": [
    "(distance[:,0]==0)"
   ]
  },
  {
   "cell_type": "code",
   "execution_count": 112,
   "id": "ee78885f-91c0-41f7-a1d4-59f926694656",
   "metadata": {},
   "outputs": [
    {
     "data": {
      "text/plain": [
       "array([[    0,    40,    90, ..., 19840, 19890, 19940],\n",
       "       [   50,     0,    40, ..., 19790, 19840, 19890],\n",
       "       [  100,    50,     0, ..., 19740, 19790, 19840],\n",
       "       ...,\n",
       "       [19850, 19800, 19750, ...,     0,    40,    90],\n",
       "       [19900, 19850, 19800, ...,    50,     0,    40],\n",
       "       [19950, 19900, 19850, ...,   100,    50,     0]])"
      ]
     },
     "execution_count": 112,
     "metadata": {},
     "output_type": "execute_result"
    }
   ],
   "source": [
    "distance"
   ]
  },
  {
   "cell_type": "code",
   "execution_count": null,
   "id": "88fee394-7632-43a0-9f1a-526d64a6e4f0",
   "metadata": {},
   "outputs": [],
   "source": []
  }
 ],
 "metadata": {
  "kernelspec": {
   "display_name": "Python 3 (ipykernel)",
   "language": "python",
   "name": "python3"
  },
  "language_info": {
   "codemirror_mode": {
    "name": "ipython",
    "version": 3
   },
   "file_extension": ".py",
   "mimetype": "text/x-python",
   "name": "python",
   "nbconvert_exporter": "python",
   "pygments_lexer": "ipython3",
   "version": "3.10.12"
  }
 },
 "nbformat": 4,
 "nbformat_minor": 5
}
