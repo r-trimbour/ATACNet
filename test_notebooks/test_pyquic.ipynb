{
 "cells": [
  {
   "cell_type": "code",
   "execution_count": null,
   "id": "510b7135-ae01-4802-a052-5c752ba368e5",
   "metadata": {},
   "outputs": [],
   "source": []
  },
  {
   "cell_type": "code",
   "execution_count": 1,
   "id": "224a35c1-61f9-4c13-a6ce-8e5a6a003ba8",
   "metadata": {},
   "outputs": [],
   "source": [
    "import sys\n",
    "sys.path.append('..')"
   ]
  },
  {
   "cell_type": "code",
   "execution_count": 2,
   "id": "fa29022b-99db-43da-8140-261b2e9d9323",
   "metadata": {},
   "outputs": [
    {
     "ename": "ImportError",
     "evalue": "cannot import name 'quic' from partially initialized module 'skggm.inverse_covariance.pyquic' (most likely due to a circular import) (/home/rtrimbou/ATACNet/test_notebooks/../skggm/inverse_covariance/pyquic/__init__.py)",
     "output_type": "error",
     "traceback": [
      "\u001b[0;31m---------------------------------------------------------------------------\u001b[0m",
      "\u001b[0;31mImportError\u001b[0m                               Traceback (most recent call last)",
      "Cell \u001b[0;32mIn[2], line 1\u001b[0m\n\u001b[0;32m----> 1\u001b[0m \u001b[38;5;28;01mfrom\u001b[39;00m \u001b[38;5;21;01mskggm\u001b[39;00m\u001b[38;5;21;01m.\u001b[39;00m\u001b[38;5;21;01minverse_covariance\u001b[39;00m \u001b[38;5;28;01mimport\u001b[39;00m quic_graph_lasso\n",
      "File \u001b[0;32m~/ATACNet/test_notebooks/../skggm/inverse_covariance/__init__.py:3\u001b[0m\n\u001b[1;32m      1\u001b[0m \u001b[38;5;28;01mfrom\u001b[39;00m \u001b[38;5;21;01m__future__\u001b[39;00m \u001b[38;5;28;01mimport\u001b[39;00m absolute_import\n\u001b[1;32m      2\u001b[0m \u001b[38;5;28;01mfrom\u001b[39;00m \u001b[38;5;21;01m.\u001b[39;00m\u001b[38;5;21;01minverse_covariance\u001b[39;00m \u001b[38;5;28;01mimport\u001b[39;00m InverseCovarianceEstimator\n\u001b[0;32m----> 3\u001b[0m \u001b[38;5;28;01mfrom\u001b[39;00m \u001b[38;5;21;01m.\u001b[39;00m\u001b[38;5;21;01mquic_graph_lasso\u001b[39;00m \u001b[38;5;28;01mimport\u001b[39;00m (\n\u001b[1;32m      4\u001b[0m     quic,\n\u001b[1;32m      5\u001b[0m     QuicGraphLasso,\n\u001b[1;32m      6\u001b[0m     QuicGraphLassoCV,\n\u001b[1;32m      7\u001b[0m     QuicGraphLassoEBIC,\n\u001b[1;32m      8\u001b[0m     QuicGraphicalLasso,\n\u001b[1;32m      9\u001b[0m     QuicGraphicalLassoCV,\n\u001b[1;32m     10\u001b[0m     QuicGraphicalLassoEBIC,\n\u001b[1;32m     11\u001b[0m )\n\u001b[1;32m     12\u001b[0m \u001b[38;5;28;01mfrom\u001b[39;00m \u001b[38;5;21;01m.\u001b[39;00m\u001b[38;5;21;01mmetrics\u001b[39;00m \u001b[38;5;28;01mimport\u001b[39;00m log_likelihood, kl_loss, quadratic_loss, ebic\n\u001b[1;32m     13\u001b[0m \u001b[38;5;28;01mfrom\u001b[39;00m \u001b[38;5;21;01m.\u001b[39;00m\u001b[38;5;21;01mrank_correlation\u001b[39;00m \u001b[38;5;28;01mimport\u001b[39;00m spearman_correlation, kendalltau_correlation\n",
      "File \u001b[0;32m~/ATACNet/test_notebooks/../skggm/inverse_covariance/quic_graph_lasso.py:15\u001b[0m\n\u001b[1;32m     12\u001b[0m \u001b[38;5;28;01mfrom\u001b[39;00m \u001b[38;5;21;01mjoblib\u001b[39;00m \u001b[38;5;28;01mimport\u001b[39;00m Parallel, delayed\n\u001b[1;32m     13\u001b[0m \u001b[38;5;28;01mfrom\u001b[39;00m \u001b[38;5;21;01msklearn\u001b[39;00m\u001b[38;5;21;01m.\u001b[39;00m\u001b[38;5;21;01mmodel_selection\u001b[39;00m \u001b[38;5;28;01mimport\u001b[39;00m cross_val_score, RepeatedKFold\n\u001b[0;32m---> 15\u001b[0m \u001b[38;5;28;01mfrom\u001b[39;00m \u001b[38;5;21;01m.\u001b[39;00m \u001b[38;5;28;01mimport\u001b[39;00m pyquic\n\u001b[1;32m     16\u001b[0m \u001b[38;5;28;01mfrom\u001b[39;00m \u001b[38;5;21;01m.\u001b[39;00m\u001b[38;5;21;01minverse_covariance\u001b[39;00m \u001b[38;5;28;01mimport\u001b[39;00m (\n\u001b[1;32m     17\u001b[0m     InverseCovarianceEstimator,\n\u001b[1;32m     18\u001b[0m     _init_coefs,\n\u001b[1;32m     19\u001b[0m     _compute_error,\n\u001b[1;32m     20\u001b[0m     _validate_path,\n\u001b[1;32m     21\u001b[0m )\n\u001b[1;32m     24\u001b[0m \u001b[38;5;28;01mdef\u001b[39;00m \u001b[38;5;21mquic\u001b[39m(\n\u001b[1;32m     25\u001b[0m     S,\n\u001b[1;32m     26\u001b[0m     lam,\n\u001b[0;32m   (...)\u001b[0m\n\u001b[1;32m     33\u001b[0m     msg\u001b[38;5;241m=\u001b[39m\u001b[38;5;241m0\u001b[39m,\n\u001b[1;32m     34\u001b[0m ):\n",
      "File \u001b[0;32m~/ATACNet/test_notebooks/../skggm/inverse_covariance/pyquic/__init__.py:2\u001b[0m\n\u001b[1;32m      1\u001b[0m \u001b[38;5;66;03m#from .pyquic import quic  # NOQA  # NOQA\u001b[39;00m\n\u001b[0;32m----> 2\u001b[0m \u001b[38;5;28;01mfrom\u001b[39;00m \u001b[38;5;21;01m.\u001b[39;00m \u001b[38;5;28;01mimport\u001b[39;00m quic\n",
      "\u001b[0;31mImportError\u001b[0m: cannot import name 'quic' from partially initialized module 'skggm.inverse_covariance.pyquic' (most likely due to a circular import) (/home/rtrimbou/ATACNet/test_notebooks/../skggm/inverse_covariance/pyquic/__init__.py)"
     ]
    }
   ],
   "source": [
    "from skggm.inverse_covariance import quic_graph_lasso"
   ]
  },
  {
   "cell_type": "code",
   "execution_count": null,
   "id": "af0d442b-5a56-47fe-acdf-65feaabc72a7",
   "metadata": {},
   "outputs": [],
   "source": [
    "dir(skggm)"
   ]
  },
  {
   "cell_type": "code",
   "execution_count": null,
   "id": "3d5cc7e7-47bc-4f11-809f-a31fc23db4fe",
   "metadata": {},
   "outputs": [],
   "source": [
    "#dir(quic_graph_lasso)"
   ]
  },
  {
   "cell_type": "code",
   "execution_count": null,
   "id": "0928d7b2-9a13-4c9d-be9e-7143df72b1e3",
   "metadata": {},
   "outputs": [],
   "source": [
    "#help(quic_graph_lasso.QuicGraphicalLasso)"
   ]
  },
  {
   "cell_type": "code",
   "execution_count": null,
   "id": "e245dd0e-3c25-4387-a354-86fae7616039",
   "metadata": {},
   "outputs": [],
   "source": [
    "a = quic_graph_lasso.QuicGraphicalLasso(lam=0.5, mode='default', tol=1e-06, max_iter=1000, Theta0=None, Sigma0=None, path=None, method='quic', verbose=0, score_metric='log_likelihood', init_method='corrcoef', auto_scale=True)"
   ]
  },
  {
   "cell_type": "code",
   "execution_count": null,
   "id": "0e1a8bd2-9a63-41ac-bf86-04ed32a4072e",
   "metadata": {},
   "outputs": [],
   "source": [
    "a.fit()"
   ]
  },
  {
   "cell_type": "code",
   "execution_count": null,
   "id": "5c583e4d-4683-40c4-ae05-815ce9feb305",
   "metadata": {},
   "outputs": [],
   "source": [
    "import numpy as np\n",
    "X = np.random.randint(0,100, size=(5,5))"
   ]
  },
  {
   "cell_type": "code",
   "execution_count": null,
   "id": "c35022e2-b6ae-4f9b-9d8d-8863af5c123b",
   "metadata": {
    "scrolled": true
   },
   "outputs": [],
   "source": [
    "a.fit(X)"
   ]
  },
  {
   "cell_type": "code",
   "execution_count": 4,
   "id": "a6b617f6-d4ac-44f6-8399-0e9b60e0ee2d",
   "metadata": {},
   "outputs": [
    {
     "ename": "ModuleNotFoundError",
     "evalue": "No module named 'skggm.inverse_covariance.pyquic.pyquic'",
     "output_type": "error",
     "traceback": [
      "\u001b[0;31m---------------------------------------------------------------------------\u001b[0m",
      "\u001b[0;31mModuleNotFoundError\u001b[0m                       Traceback (most recent call last)",
      "Cell \u001b[0;32mIn[4], line 1\u001b[0m\n\u001b[0;32m----> 1\u001b[0m \u001b[38;5;28;01mfrom\u001b[39;00m \u001b[38;5;21;01mskggm\u001b[39;00m\u001b[38;5;21;01m.\u001b[39;00m\u001b[38;5;21;01minverse_covariance\u001b[39;00m\u001b[38;5;21;01m.\u001b[39;00m\u001b[38;5;21;01mpyquic\u001b[39;00m \u001b[38;5;28;01mimport\u001b[39;00m quic\n",
      "File \u001b[0;32m~/ATACNet/test_notebooks/../skggm/inverse_covariance/__init__.py:3\u001b[0m\n\u001b[1;32m      1\u001b[0m \u001b[38;5;28;01mfrom\u001b[39;00m \u001b[38;5;21;01m__future__\u001b[39;00m \u001b[38;5;28;01mimport\u001b[39;00m absolute_import\n\u001b[1;32m      2\u001b[0m \u001b[38;5;28;01mfrom\u001b[39;00m \u001b[38;5;21;01m.\u001b[39;00m\u001b[38;5;21;01minverse_covariance\u001b[39;00m \u001b[38;5;28;01mimport\u001b[39;00m InverseCovarianceEstimator\n\u001b[0;32m----> 3\u001b[0m \u001b[38;5;28;01mfrom\u001b[39;00m \u001b[38;5;21;01m.\u001b[39;00m\u001b[38;5;21;01mquic_graph_lasso\u001b[39;00m \u001b[38;5;28;01mimport\u001b[39;00m (\n\u001b[1;32m      4\u001b[0m     quic,\n\u001b[1;32m      5\u001b[0m     QuicGraphLasso,\n\u001b[1;32m      6\u001b[0m     QuicGraphLassoCV,\n\u001b[1;32m      7\u001b[0m     QuicGraphLassoEBIC,\n\u001b[1;32m      8\u001b[0m     QuicGraphicalLasso,\n\u001b[1;32m      9\u001b[0m     QuicGraphicalLassoCV,\n\u001b[1;32m     10\u001b[0m     QuicGraphicalLassoEBIC,\n\u001b[1;32m     11\u001b[0m )\n\u001b[1;32m     12\u001b[0m \u001b[38;5;28;01mfrom\u001b[39;00m \u001b[38;5;21;01m.\u001b[39;00m\u001b[38;5;21;01mmetrics\u001b[39;00m \u001b[38;5;28;01mimport\u001b[39;00m log_likelihood, kl_loss, quadratic_loss, ebic\n\u001b[1;32m     13\u001b[0m \u001b[38;5;28;01mfrom\u001b[39;00m \u001b[38;5;21;01m.\u001b[39;00m\u001b[38;5;21;01mrank_correlation\u001b[39;00m \u001b[38;5;28;01mimport\u001b[39;00m spearman_correlation, kendalltau_correlation\n",
      "File \u001b[0;32m~/ATACNet/test_notebooks/../skggm/inverse_covariance/quic_graph_lasso.py:15\u001b[0m\n\u001b[1;32m     12\u001b[0m \u001b[38;5;28;01mfrom\u001b[39;00m \u001b[38;5;21;01mjoblib\u001b[39;00m \u001b[38;5;28;01mimport\u001b[39;00m Parallel, delayed\n\u001b[1;32m     13\u001b[0m \u001b[38;5;28;01mfrom\u001b[39;00m \u001b[38;5;21;01msklearn\u001b[39;00m\u001b[38;5;21;01m.\u001b[39;00m\u001b[38;5;21;01mmodel_selection\u001b[39;00m \u001b[38;5;28;01mimport\u001b[39;00m cross_val_score, RepeatedKFold\n\u001b[0;32m---> 15\u001b[0m \u001b[38;5;28;01mfrom\u001b[39;00m \u001b[38;5;21;01m.\u001b[39;00m \u001b[38;5;28;01mimport\u001b[39;00m pyquic\n\u001b[1;32m     16\u001b[0m \u001b[38;5;28;01mfrom\u001b[39;00m \u001b[38;5;21;01m.\u001b[39;00m\u001b[38;5;21;01minverse_covariance\u001b[39;00m \u001b[38;5;28;01mimport\u001b[39;00m (\n\u001b[1;32m     17\u001b[0m     InverseCovarianceEstimator,\n\u001b[1;32m     18\u001b[0m     _init_coefs,\n\u001b[1;32m     19\u001b[0m     _compute_error,\n\u001b[1;32m     20\u001b[0m     _validate_path,\n\u001b[1;32m     21\u001b[0m )\n\u001b[1;32m     24\u001b[0m \u001b[38;5;28;01mdef\u001b[39;00m \u001b[38;5;21mquic\u001b[39m(\n\u001b[1;32m     25\u001b[0m     S,\n\u001b[1;32m     26\u001b[0m     lam,\n\u001b[0;32m   (...)\u001b[0m\n\u001b[1;32m     33\u001b[0m     msg\u001b[38;5;241m=\u001b[39m\u001b[38;5;241m0\u001b[39m,\n\u001b[1;32m     34\u001b[0m ):\n",
      "File \u001b[0;32m~/ATACNet/test_notebooks/../skggm/inverse_covariance/pyquic/__init__.py:1\u001b[0m\n\u001b[0;32m----> 1\u001b[0m #from .pyquic import quic  # NOQA  # NOQA\n\u001b[1;32m      2\u001b[0m from . import quic\n",
      "\u001b[0;31mModuleNotFoundError\u001b[0m: No module named 'skggm.inverse_covariance.pyquic.pyquic'"
     ]
    }
   ],
   "source": [
    "from skggm.inverse_covariance.pyquic import quic"
   ]
  },
  {
   "cell_type": "code",
   "execution_count": null,
   "id": "e0c9239e-68f2-46e3-b48d-a7a9d6626532",
   "metadata": {},
   "outputs": [],
   "source": []
  }
 ],
 "metadata": {
  "kernelspec": {
   "display_name": "Python 3 (ipykernel)",
   "language": "python",
   "name": "python3"
  },
  "language_info": {
   "codemirror_mode": {
    "name": "ipython",
    "version": 3
   },
   "file_extension": ".py",
   "mimetype": "text/x-python",
   "name": "python",
   "nbconvert_exporter": "python",
   "pygments_lexer": "ipython3",
   "version": "3.10.12"
  }
 },
 "nbformat": 4,
 "nbformat_minor": 5
}
