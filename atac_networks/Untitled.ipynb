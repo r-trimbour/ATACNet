{
 "cells": [
  {
   "cell_type": "code",
   "execution_count": 1,
   "id": "93d22254-4794-410b-948d-6328d81a23a0",
   "metadata": {
    "tags": []
   },
   "outputs": [],
   "source": [
    "import atac_networks.atac_network as atac_net"
   ]
  },
  {
   "cell_type": "code",
   "execution_count": 2,
   "id": "11e20925-7b12-4c55-ac33-66d810525ec5",
   "metadata": {
    "tags": []
   },
   "outputs": [
    {
     "ename": "NameError",
     "evalue": "name 'atac_networks' is not defined",
     "output_type": "error",
     "traceback": [
      "\u001b[0;31m---------------------------------------------------------------------------\u001b[0m",
      "\u001b[0;31mNameError\u001b[0m                                 Traceback (most recent call last)",
      "Cell \u001b[0;32mIn[2], line 1\u001b[0m\n\u001b[0;32m----> 1\u001b[0m atac_networks\u001b[38;5;241m.\u001b[39mquic_graph_lasso\n",
      "\u001b[0;31mNameError\u001b[0m: name 'atac_networks' is not defined"
     ]
    }
   ],
   "source": [
    "atac_networks.quic_graph_lasso"
   ]
  },
  {
   "cell_type": "code",
   "execution_count": 5,
   "id": "0032b345-dba4-4cd7-b0e0-a5d1f35c84ce",
   "metadata": {
    "tags": []
   },
   "outputs": [],
   "source": [
    "import numpy as np\n",
    "import pandas as pd\n",
    "import anndata as ad\n",
    "import scipy as sp\n",
    "\n",
    "from scipy import linalg\n",
    "from sklearn.datasets import make_sparse_spd_matrix"
   ]
  },
  {
   "cell_type": "code",
   "execution_count": 6,
   "id": "7705e180-2b16-4e5e-8c06-aa2d7f5c64ec",
   "metadata": {
    "tags": []
   },
   "outputs": [],
   "source": [
    "# Create fake single-cell atac-seq data\n",
    "nb_cells = 300\n",
    "nb_chr = 10\n",
    "nb_regions_per_chr = 200\n",
    "between_reg = 10000\n",
    "size_reg = 50\n",
    "\n",
    "counts = []\n",
    "for chr in range(nb_chr):\n",
    "    counts.append(pd.DataFrame(np.random.randint(0,100, size=(nb_cells, nb_regions_per_chr)),\n",
    "                        index=['Cell_'+j for j in map(str, range(nb_cells))],\n",
    "                        columns=['chr'+str(chr)+'_'+str(i)+'_'+str(i+size_reg) for i in range(1, nb_regions_per_chr*between_reg+1, between_reg)]))\n",
    "X_atac = ad.AnnData(pd.concat(counts, axis=1))"
   ]
  },
  {
   "cell_type": "code",
   "execution_count": null,
   "id": "ee3f8b0b-56b0-42fb-848b-200546a0259e",
   "metadata": {},
   "outputs": [],
   "source": []
  },
  {
   "cell_type": "code",
   "execution_count": 7,
   "id": "cf34650a-8fef-40df-8afc-2fe3c61462ed",
   "metadata": {
    "tags": []
   },
   "outputs": [],
   "source": [
    "distance_threshold = 200000"
   ]
  },
  {
   "cell_type": "code",
   "execution_count": 8,
   "id": "128ac6f1-94b6-472e-8ac7-aaf4958fd4fc",
   "metadata": {
    "tags": []
   },
   "outputs": [],
   "source": [
    "atac_net.add_region_infos(X_atac)"
   ]
  },
  {
   "cell_type": "code",
   "execution_count": 9,
   "id": "23a15308-1b72-41a0-955e-86b65511ca6a",
   "metadata": {
    "tags": []
   },
   "outputs": [],
   "source": [
    "distances = atac_net.get_distances_regions(X_atac)"
   ]
  },
  {
   "cell_type": "code",
   "execution_count": 10,
   "id": "8542618c-961d-4cee-a405-08aa1bf4e09d",
   "metadata": {
    "tags": []
   },
   "outputs": [
    {
     "data": {
      "text/plain": [
       "array([[ True,  True,  True, ..., False, False, False],\n",
       "       [ True,  True,  True, ..., False, False, False],\n",
       "       [ True,  True,  True, ..., False, False, False],\n",
       "       ...,\n",
       "       [False, False, False, ...,  True,  True,  True],\n",
       "       [False, False, False, ...,  True,  True,  True],\n",
       "       [False, False, False, ...,  True,  True,  True]])"
      ]
     },
     "execution_count": 10,
     "metadata": {},
     "output_type": "execute_result"
    }
   ],
   "source": [
    "distances < distance_threshold"
   ]
  },
  {
   "cell_type": "code",
   "execution_count": 11,
   "id": "320e2500-4bfe-4fd0-9b16-437248680165",
   "metadata": {
    "tags": []
   },
   "outputs": [],
   "source": [
    "n_samples, n_features = 300, 200\n",
    "\n",
    "prng = np.random.RandomState(1)\n",
    "prec = make_sparse_spd_matrix(\n",
    "    n_features, alpha=0.99, smallest_coef=0.4, largest_coef=0.7, random_state=prng\n",
    ")\n",
    "cov = linalg.inv(prec)\n",
    "\n",
    "#cov with only potential connections\n",
    "possible_co = sp.sparse.csr_matrix(distances < distance_threshold)[:cov.shape[0],:cov.shape[1]]\n",
    "possible_co = sp.sparse.coo_matrix(possible_co).toarray() + sp.sparse.coo_matrix(possible_co).toarray().T \n",
    "cov = np.eye(len(cov))*np.diag(cov) + possible_co*cov \n",
    "d = np.sqrt(np.diag(cov))\n",
    "cov /= d\n",
    "cov /= d[:, np.newaxis]\n",
    "prec *= d\n",
    "prec *= d[:, np.newaxis]\n",
    "X = prng.multivariate_normal(np.zeros(n_features), cov, size=n_samples)\n",
    "X -= X.mean(axis=0)\n",
    "X /= X.std(axis=0)\n",
    "\n",
    "X_ = np.concatenate([X]*10, axis=1)\n",
    "X_atac.X = X_"
   ]
  },
  {
   "cell_type": "code",
   "execution_count": 12,
   "id": "6c76cf1c-cd12-4e11-b034-dade9566fd25",
   "metadata": {
    "tags": []
   },
   "outputs": [
    {
     "name": "stderr",
     "output_type": "stream",
     "text": [
      "/home/rtrimbou/miniconda3/envs/atac_networks/lib/python3.11/site-packages/anndata/_core/anndata.py:1113: FutureWarning: is_categorical_dtype is deprecated and will be removed in a future version. Use isinstance(dtype, CategoricalDtype) instead\n",
      "  if not is_categorical_dtype(df_full[k]):\n"
     ]
    },
    {
     "ename": "AttributeError",
     "evalue": "module 'atac_networks.pyquic' has no attribute 'quic'",
     "output_type": "error",
     "traceback": [
      "\u001b[0;31m---------------------------------------------------------------------------\u001b[0m",
      "\u001b[0;31mAttributeError\u001b[0m                            Traceback (most recent call last)",
      "Cell \u001b[0;32mIn[12], line 1\u001b[0m\n\u001b[0;32m----> 1\u001b[0m alpha \u001b[38;5;241m=\u001b[39m atac_net\u001b[38;5;241m.\u001b[39mlocal_alpha(X_atac[:,\u001b[38;5;241m100\u001b[39m:\u001b[38;5;241m300\u001b[39m]\u001b[38;5;241m.\u001b[39mX, distances[\u001b[38;5;241m100\u001b[39m:\u001b[38;5;241m300\u001b[39m,\u001b[38;5;241m100\u001b[39m:\u001b[38;5;241m300\u001b[39m], distance_constraint\u001b[38;5;241m=\u001b[39m\u001b[38;5;241m200000\u001b[39m)\n\u001b[1;32m      2\u001b[0m alpha\n",
      "File \u001b[0;32m~/ATACNet/atac_networks/atac_networks/atac_network.py:202\u001b[0m, in \u001b[0;36mlocal_alpha\u001b[0;34m(X, distances, maxit, s, distance_constraint, distance_parameter_convergence, max_elements, unit_distance)\u001b[0m\n\u001b[1;32m    197\u001b[0m graph_lasso_model \u001b[38;5;241m=\u001b[39m quic_graph_lasso\u001b[38;5;241m.\u001b[39mQuicGraphicalLasso(\n\u001b[1;32m    198\u001b[0m     init_method\u001b[38;5;241m=\u001b[39m\u001b[38;5;124m\"\u001b[39m\u001b[38;5;124mprecomputed\u001b[39m\u001b[38;5;124m\"\u001b[39m, lam\u001b[38;5;241m=\u001b[39mpenalties\n\u001b[1;32m    199\u001b[0m )\n\u001b[1;32m    201\u001b[0m \u001b[38;5;66;03m# Fit graphical lasso\u001b[39;00m\n\u001b[0;32m--> 202\u001b[0m results \u001b[38;5;241m=\u001b[39m graph_lasso_model\u001b[38;5;241m.\u001b[39mfit(cov)\u001b[38;5;241m.\u001b[39mcovariance_\n\u001b[1;32m    204\u001b[0m \u001b[38;5;66;03m# Get proportion of far away/all region pairs that have a connection\u001b[39;00m\n\u001b[1;32m    205\u001b[0m mask_distance \u001b[38;5;241m=\u001b[39m distances \u001b[38;5;241m>\u001b[39m distance_constraint\n",
      "File \u001b[0;32m~/ATACNet/atac_networks/atac_networks/quic_graph_lasso.py:349\u001b[0m, in \u001b[0;36mQuicGraphicalLasso.fit\u001b[0;34m(self, X, y, **fit_params)\u001b[0m\n\u001b[1;32m    340\u001b[0m \u001b[38;5;28mself\u001b[39m\u001b[38;5;241m.\u001b[39minit_coefs(X)\n\u001b[1;32m    341\u001b[0m \u001b[38;5;28;01mif\u001b[39;00m \u001b[38;5;28mself\u001b[39m\u001b[38;5;241m.\u001b[39mmethod \u001b[38;5;241m==\u001b[39m \u001b[38;5;124m\"\u001b[39m\u001b[38;5;124mquic\u001b[39m\u001b[38;5;124m\"\u001b[39m:\n\u001b[1;32m    342\u001b[0m     (\n\u001b[1;32m    343\u001b[0m         \u001b[38;5;28mself\u001b[39m\u001b[38;5;241m.\u001b[39mprecision_,\n\u001b[1;32m    344\u001b[0m         \u001b[38;5;28mself\u001b[39m\u001b[38;5;241m.\u001b[39mcovariance_,\n\u001b[1;32m    345\u001b[0m         \u001b[38;5;28mself\u001b[39m\u001b[38;5;241m.\u001b[39mopt_,\n\u001b[1;32m    346\u001b[0m         \u001b[38;5;28mself\u001b[39m\u001b[38;5;241m.\u001b[39mcputime_,\n\u001b[1;32m    347\u001b[0m         \u001b[38;5;28mself\u001b[39m\u001b[38;5;241m.\u001b[39miters_,\n\u001b[1;32m    348\u001b[0m         \u001b[38;5;28mself\u001b[39m\u001b[38;5;241m.\u001b[39mduality_gap_,\n\u001b[0;32m--> 349\u001b[0m     ) \u001b[38;5;241m=\u001b[39m quic(\n\u001b[1;32m    350\u001b[0m         \u001b[38;5;28mself\u001b[39m\u001b[38;5;241m.\u001b[39msample_covariance_,\n\u001b[1;32m    351\u001b[0m         \u001b[38;5;28mself\u001b[39m\u001b[38;5;241m.\u001b[39mlam \u001b[38;5;241m*\u001b[39m \u001b[38;5;28mself\u001b[39m\u001b[38;5;241m.\u001b[39mlam_scale_,\n\u001b[1;32m    352\u001b[0m         mode\u001b[38;5;241m=\u001b[39m\u001b[38;5;28mself\u001b[39m\u001b[38;5;241m.\u001b[39mmode,\n\u001b[1;32m    353\u001b[0m         tol\u001b[38;5;241m=\u001b[39m\u001b[38;5;28mself\u001b[39m\u001b[38;5;241m.\u001b[39mtol,\n\u001b[1;32m    354\u001b[0m         max_iter\u001b[38;5;241m=\u001b[39m\u001b[38;5;28mself\u001b[39m\u001b[38;5;241m.\u001b[39mmax_iter,\n\u001b[1;32m    355\u001b[0m         Theta0\u001b[38;5;241m=\u001b[39m\u001b[38;5;28mself\u001b[39m\u001b[38;5;241m.\u001b[39mTheta0,\n\u001b[1;32m    356\u001b[0m         Sigma0\u001b[38;5;241m=\u001b[39m\u001b[38;5;28mself\u001b[39m\u001b[38;5;241m.\u001b[39mSigma0,\n\u001b[1;32m    357\u001b[0m         path\u001b[38;5;241m=\u001b[39m\u001b[38;5;28mself\u001b[39m\u001b[38;5;241m.\u001b[39mpath_,\n\u001b[1;32m    358\u001b[0m         msg\u001b[38;5;241m=\u001b[39m\u001b[38;5;28mself\u001b[39m\u001b[38;5;241m.\u001b[39mverbose,\n\u001b[1;32m    359\u001b[0m     )\n\u001b[1;32m    360\u001b[0m \u001b[38;5;28;01melse\u001b[39;00m:\n\u001b[1;32m    361\u001b[0m     \u001b[38;5;28;01mraise\u001b[39;00m \u001b[38;5;167;01mNotImplementedError\u001b[39;00m(\u001b[38;5;124m\"\u001b[39m\u001b[38;5;124mOnly method=\u001b[39m\u001b[38;5;124m'\u001b[39m\u001b[38;5;124mquic\u001b[39m\u001b[38;5;124m'\u001b[39m\u001b[38;5;124m has been implemented.\u001b[39m\u001b[38;5;124m\"\u001b[39m)\n",
      "File \u001b[0;32m~/ATACNet/atac_networks/atac_networks/quic_graph_lasso.py:126\u001b[0m, in \u001b[0;36mquic\u001b[0;34m(S, lam, mode, tol, max_iter, Theta0, Sigma0, path, msg)\u001b[0m\n\u001b[1;32m    124\u001b[0m dGap \u001b[38;5;241m=\u001b[39m np\u001b[38;5;241m.\u001b[39mzeros(optSize)\n\u001b[1;32m    125\u001b[0m iters \u001b[38;5;241m=\u001b[39m np\u001b[38;5;241m.\u001b[39mzeros(iterSize, dtype\u001b[38;5;241m=\u001b[39mnp\u001b[38;5;241m.\u001b[39muint32)\n\u001b[0;32m--> 126\u001b[0m pyquic\u001b[38;5;241m.\u001b[39mquic(\n\u001b[1;32m    127\u001b[0m     quic_mode,\n\u001b[1;32m    128\u001b[0m     Sn,\n\u001b[1;32m    129\u001b[0m     S,\n\u001b[1;32m    130\u001b[0m     _lam,\n\u001b[1;32m    131\u001b[0m     path_len,\n\u001b[1;32m    132\u001b[0m     path,\n\u001b[1;32m    133\u001b[0m     tol,\n\u001b[1;32m    134\u001b[0m     msg,\n\u001b[1;32m    135\u001b[0m     max_iter,\n\u001b[1;32m    136\u001b[0m     Theta,\n\u001b[1;32m    137\u001b[0m     Sigma,\n\u001b[1;32m    138\u001b[0m     opt,\n\u001b[1;32m    139\u001b[0m     cputime,\n\u001b[1;32m    140\u001b[0m     iters,\n\u001b[1;32m    141\u001b[0m     dGap,\n\u001b[1;32m    142\u001b[0m )\n\u001b[1;32m    144\u001b[0m \u001b[38;5;28;01mif\u001b[39;00m optSize \u001b[38;5;241m==\u001b[39m \u001b[38;5;241m1\u001b[39m:\n\u001b[1;32m    145\u001b[0m     opt \u001b[38;5;241m=\u001b[39m opt[\u001b[38;5;241m0\u001b[39m]\n",
      "\u001b[0;31mAttributeError\u001b[0m: module 'atac_networks.pyquic' has no attribute 'quic'"
     ]
    }
   ],
   "source": [
    "alpha = atac_net.local_alpha(X_atac[:,100:300].X, distances[100:300,100:300], distance_constraint=200000)\n",
    "alpha"
   ]
  },
  {
   "cell_type": "code",
   "execution_count": 18,
   "id": "5c1ea946-1393-4c5c-b0cd-c30328a25aad",
   "metadata": {
    "tags": []
   },
   "outputs": [],
   "source": [
    "from atac_networks.pyquic import *"
   ]
  },
  {
   "cell_type": "code",
   "execution_count": 15,
   "id": "d9070043-49f8-498c-944e-4f202cd9c7bd",
   "metadata": {
    "tags": []
   },
   "outputs": [
    {
     "data": {
      "text/plain": [
       "<module 'atac_networks.quic_graph_lasso' from '/home/rtrimbou/ATACNet/atac_networks/atac_networks/quic_graph_lasso.py'>"
      ]
     },
     "execution_count": 15,
     "metadata": {},
     "output_type": "execute_result"
    }
   ],
   "source": [
    "atac_networks.quic_graph_lasso"
   ]
  },
  {
   "cell_type": "code",
   "execution_count": 16,
   "id": "2d70f420-cbae-4993-ada9-913608275cdd",
   "metadata": {
    "tags": []
   },
   "outputs": [
    {
     "ename": "NameError",
     "evalue": "name 'quic_graph_lasso' is not defined",
     "output_type": "error",
     "traceback": [
      "\u001b[0;31m---------------------------------------------------------------------------\u001b[0m",
      "\u001b[0;31mNameError\u001b[0m                                 Traceback (most recent call last)",
      "Cell \u001b[0;32mIn[16], line 1\u001b[0m\n\u001b[0;32m----> 1\u001b[0m quic_graph_lasso\n",
      "\u001b[0;31mNameError\u001b[0m: name 'quic_graph_lasso' is not defined"
     ]
    }
   ],
   "source": [
    "quic_graph_lasso"
   ]
  },
  {
   "cell_type": "code",
   "execution_count": 13,
   "id": "4746b394-7813-4db3-a72d-14f35ac48be1",
   "metadata": {
    "tags": []
   },
   "outputs": [],
   "source": [
    "import atac_networks.pyquic"
   ]
  },
  {
   "cell_type": "code",
   "execution_count": 14,
   "id": "5ff0b828-062f-4f3b-9eb8-9b7fe9eb07ca",
   "metadata": {
    "tags": []
   },
   "outputs": [
    {
     "ename": "AttributeError",
     "evalue": "module 'atac_networks.pyquic' has no attribute 'quic'",
     "output_type": "error",
     "traceback": [
      "\u001b[0;31m---------------------------------------------------------------------------\u001b[0m",
      "\u001b[0;31mAttributeError\u001b[0m                            Traceback (most recent call last)",
      "Cell \u001b[0;32mIn[14], line 1\u001b[0m\n\u001b[0;32m----> 1\u001b[0m atac_networks\u001b[38;5;241m.\u001b[39mpyquic\u001b[38;5;241m.\u001b[39mquic\n",
      "\u001b[0;31mAttributeError\u001b[0m: module 'atac_networks.pyquic' has no attribute 'quic'"
     ]
    }
   ],
   "source": [
    "atac_networks.pyquic.quic"
   ]
  },
  {
   "cell_type": "code",
   "execution_count": null,
   "id": "6cfcb955-63e7-43b0-ac5a-cb51019ac029",
   "metadata": {},
   "outputs": [],
   "source": []
  }
 ],
 "metadata": {
  "kernelspec": {
   "display_name": "Python 3 (ipykernel)",
   "language": "python",
   "name": "python3"
  },
  "language_info": {
   "codemirror_mode": {
    "name": "ipython",
    "version": 3
   },
   "file_extension": ".py",
   "mimetype": "text/x-python",
   "name": "python",
   "nbconvert_exporter": "python",
   "pygments_lexer": "ipython3",
   "version": "3.11.5"
  }
 },
 "nbformat": 4,
 "nbformat_minor": 5
}
